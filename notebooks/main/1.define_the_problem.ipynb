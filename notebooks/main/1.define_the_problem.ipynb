{
 "cells": [
  {
   "cell_type": "markdown",
   "metadata": {},
   "source": [
    "- **Task**: Predict whether a credit card transaction is fraud.\n",
    "- **Performance**: Maximize accuracy\n",
    "- **Experience**: Credit card transactions\n",
    "- **Similar Projects**: Detecting churn\n",
    "- **Assumptions**: Amount and the first principle components will be the most important variables.  We can transform time into the # of transactions within +/- 1000 seconds.  Shap feature importance will be a good start.\n",
    "- **Why**: Banks are liable for credit card fraud over $50, so they must minimize this cost by catching it with machines.\n",
    "- **Benefits**: Being able to stop a transaction suspected of fraud.  We can freeze a card and investigate it for fraud.  The model will improve as we find more fraud using the model.\n",
    "- **Handoff**: We will handoff this model by saving it to a file and uploading the model to our server.  We will run a prediction after every transaction, so we can reject fradulent transactions, freeze the account, and update the database which alerts the investigations department.\n",
    "- **Buy-in**: We need buy-in from the engineering department responsible for code that runs after every transaction.  We also need buy-in from investigators, to make sure they will be willing to investigate and resolve these frozen accounts.\n",
    "- **Data Available**: time in seconds, amount, 28 principle components from PCA\n",
    "- **Data I Wish I Had**: whether the chip reader was used, whether the chip reader was attempted to be used, item purchased, time of day purchased, user history data\n",
    "- **Data to Ignore**: drop time in seconds after doing feature engineering with it.  Drop a lot of the principle components, but first check for Shap importance of all of them\n",
    "- **Development Data Format**: CSV\n",
    "- **Missing Data**: None\n",
    "- **Anonymize Data**: Already done\n",
    "- **Change Datatypes**: Not necessary, small file of numbers\n",
    "- **Test Set Size**: Dev set and test set will be 10,0000 samples each\n",
    "- **Training Set Sampling Plan**: No sampling.  Training will be approximately 300,000 samples\n"
   ]
  },
  {
   "cell_type": "code",
   "execution_count": null,
   "metadata": {},
   "outputs": [],
   "source": []
  }
 ],
 "metadata": {
  "kernelspec": {
   "display_name": "commons",
   "language": "python",
   "name": "commons"
  },
  "language_info": {
   "codemirror_mode": {
    "name": "ipython",
    "version": 3
   },
   "file_extension": ".py",
   "mimetype": "text/x-python",
   "name": "python",
   "nbconvert_exporter": "python",
   "pygments_lexer": "ipython3",
   "version": "3.6.5"
  },
  "toc": {
   "base_numbering": 1,
   "nav_menu": {},
   "number_sections": true,
   "sideBar": true,
   "skip_h1_title": false,
   "title_cell": "Table of Contents",
   "title_sidebar": "Contents",
   "toc_cell": false,
   "toc_position": {},
   "toc_section_display": true,
   "toc_window_display": false
  }
 },
 "nbformat": 4,
 "nbformat_minor": 2
}
